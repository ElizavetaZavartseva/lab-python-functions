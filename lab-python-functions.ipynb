{
 "cells": [
  {
   "cell_type": "markdown",
   "id": "25d7736c-ba17-4aff-b6bb-66eba20fbf4e",
   "metadata": {},
   "source": [
    "# Lab | Functions"
   ]
  },
  {
   "cell_type": "markdown",
   "id": "0c581062-8967-4d93-b06e-62833222f930",
   "metadata": {
    "tags": []
   },
   "source": [
    "## Exercise: Managing Customer Orders with Functions\n",
    "\n",
    "In the previous exercise, you improved the code for managing customer orders by using loops and flow control. Now, let's take it a step further and refactor the code by introducing functions.\n",
    "\n",
    "Follow the steps below to complete the exercise:\n",
    "\n",
    "1. Define a function named `initialize_inventory` that takes `products` as a parameter. Inside the function, implement the code for initializing the inventory dictionary using a loop and user input.\n",
    "\n",
    "2. Define a function named `get_customer_orders` that takes no parameters. Inside the function, implement the code for prompting the user to enter the product names using a loop. The function should return the `customer_orders` set.\n",
    "\n",
    "3. Define a function named `update_inventory` that takes `customer_orders` and `inventory` as parameters. Inside the function, implement the code for updating the inventory dictionary based on the customer orders.\n",
    "\n",
    "4. Define a function named `calculate_order_statistics` that takes `customer_orders` and `products` as parameters. Inside the function, implement the code for calculating the order statistics (total products ordered, and percentage of unique products ordered). The function should return these values.\n",
    "\n",
    "5. Define a function named `print_order_statistics` that takes `order_statistics` as a parameter. Inside the function, implement the code for printing the order statistics.\n",
    "\n",
    "6. Define a function named `print_updated_inventory` that takes `inventory` as a parameter. Inside the function, implement the code for printing the updated inventory.\n",
    "\n",
    "7. Call the functions in the appropriate sequence to execute the program and manage customer orders.\n",
    "\n",
    "Hints for functions:\n",
    "\n",
    "- Consider the input parameters required for each function and their return values.\n",
    "- Utilize function parameters and return values to transfer data between functions.\n",
    "- Test your functions individually to ensure they work correctly.\n",
    "\n",
    "\n"
   ]
  },
  {
   "cell_type": "code",
   "execution_count": 76,
   "id": "c0497cb2-ad1e-43ec-ba2f-76300c11c23c",
   "metadata": {},
   "outputs": [
    {
     "name": "stdout",
     "output_type": "stream",
     "text": [
      "Enter the number of t-shirts7\n",
      "Enter the number of mugs7\n",
      "Enter the number of hats7\n",
      "Enter the number of books7\n",
      "Enter the number of keychains7\n",
      "{'t-shirt': 7, 'mug': 7, 'hat': 7, 'book': 7, 'keychain': 7}\n"
     ]
    }
   ],
   "source": [
    "#Solution_1\n",
    "\n",
    "products = [\"t-shirt\", \"mug\", \"hat\", \"book\", \"keychain\"]\n",
    "\n",
    "\n",
    "def initialize_inventory(products: list):\n",
    "    inventory = {}\n",
    "    for item in products:\n",
    "        quantity_of_items = int(input(f\"Enter the number of {item}s\"))\n",
    "        inventory[item] = quantity_of_items\n",
    "    return inventory\n",
    "\n",
    "inventory = initialize_inventory(products)\n",
    "\n",
    "print(inventory)"
   ]
  },
  {
   "cell_type": "code",
   "execution_count": 77,
   "id": "2749d700",
   "metadata": {},
   "outputs": [
    {
     "name": "stdout",
     "output_type": "stream",
     "text": [
      "Enter the name of product you would like to order: book\n",
      "Do you want to add another product? (Yes or NO)yes\n",
      "Enter the name of product you would like to order: hat\n",
      "Do you want to add another product? (Yes or NO)yes\n",
      "Enter the name of product you would like to order: mug\n",
      "Do you want to add another product? (Yes or NO)no\n",
      "{'book', 'mug', 'hat'}\n"
     ]
    }
   ],
   "source": [
    "#Solution_2\n",
    "\n",
    "customer_orders = set()\n",
    "\n",
    "def get_customer_orders():\n",
    "    customer_orders = set()\n",
    "    one_more_product = \"yes\"\n",
    "\n",
    "    while one_more_product == \"yes\":\n",
    "            product = input(\"Enter the name of product you would like to order: \").lower()\n",
    "            customer_orders.add(product)  \n",
    "            one_more_product = input(\"Do you want to add another product? (Yes or NO)\").lower()\n",
    "            while one_more_product != \"yes\" and one_more_product != \"no\":\n",
    "                one_more_product = input(\"Please enter Yes or NO! Do you want to add another product?\").lower()\n",
    "    return customer_orders\n",
    "  \n",
    "customer_orders = get_customer_orders()\n",
    "    \n",
    "print(customer_orders)   "
   ]
  },
  {
   "cell_type": "code",
   "execution_count": 78,
   "id": "2f1ccef8",
   "metadata": {},
   "outputs": [
    {
     "name": "stdout",
     "output_type": "stream",
     "text": [
      "{'t-shirt': 7, 'mug': 6, 'hat': 6, 'book': 6, 'keychain': 7}\n"
     ]
    }
   ],
   "source": [
    "#Solution_3\n",
    "\n",
    "def update_inventory(customer_orders, inventory):\n",
    "    for item in customer_orders:\n",
    "        inventory[item] -= 1\n",
    "    return inventory\n",
    "        \n",
    "inventory = update_inventory(customer_orders, inventory)\n",
    "   \n",
    "print(inventory)    \n"
   ]
  },
  {
   "cell_type": "code",
   "execution_count": 100,
   "id": "6a9e335e",
   "metadata": {},
   "outputs": [
    {
     "name": "stdout",
     "output_type": "stream",
     "text": [
      "(3, 9.375)\n"
     ]
    }
   ],
   "source": [
    "#Solution_4\n",
    "\n",
    "def calculate_order_statistics(customer_orders, inventory):\n",
    "    total_products_ordered = len(customer_orders)\n",
    "    total_available_products = sum(inventory.values())\n",
    "    percentage_of_products_ordered = total_products_ordered / total_available_products * 100\n",
    "    order_statistics = (total_products_ordered, percentage_of_products_ordered)\n",
    "    return order_statistics \n",
    "    \n",
    "    \n",
    "order_statistics = calculate_order_statistics(customer_orders, inventory)\n",
    "\n",
    "print(order_statistics)"
   ]
  },
  {
   "cell_type": "code",
   "execution_count": 101,
   "id": "ded39440",
   "metadata": {},
   "outputs": [
    {
     "name": "stdout",
     "output_type": "stream",
     "text": [
      "\n",
      "    Order Statistics:\n",
      "    Total Products Ordered: 3\n",
      "    Percentage of Products Ordered: 9.375%\n",
      "    \n"
     ]
    }
   ],
   "source": [
    "#Solution_5\n",
    "\n",
    "def print_order_statistics(order_statistics):\n",
    "    print(f\"\"\"\n",
    "    Order Statistics:\n",
    "    Total Products Ordered: {order_statistics[0]}\n",
    "    Percentage of Products Ordered: {order_statistics[1]}%\n",
    "    \"\"\")\n",
    "\n",
    "print_order_statistics(order_statistics)"
   ]
  },
  {
   "cell_type": "code",
   "execution_count": 102,
   "id": "6bbdb243",
   "metadata": {},
   "outputs": [
    {
     "name": "stdout",
     "output_type": "stream",
     "text": [
      "t-shirt: 7\n",
      "mug: 6\n",
      "hat: 6\n",
      "book: 6\n",
      "keychain: 7\n"
     ]
    }
   ],
   "source": [
    "#Solution_6\n",
    "\n",
    "def print_updated_inventory(inventory):\n",
    "    for k, v in inventory.items():\n",
    "        print(f\"{k}: {v}\")\n",
    "     \n",
    "print_updated_inventory(inventory)"
   ]
  },
  {
   "cell_type": "code",
   "execution_count": 103,
   "id": "84165ce2",
   "metadata": {},
   "outputs": [
    {
     "name": "stdout",
     "output_type": "stream",
     "text": [
      "Enter the number of t-shirts7\n",
      "Enter the number of mugs7\n",
      "Enter the number of hats7\n",
      "Enter the number of books7\n",
      "Enter the number of keychains7\n",
      "Enter the name of product you would like to order: hat\n",
      "Do you want to add another product? (Yes or NO)yes\n",
      "Enter the name of product you would like to order: book\n",
      "Do you want to add another product? (Yes or NO)yes\n",
      "Enter the name of product you would like to order: mug\n",
      "Do you want to add another product? (Yes or NO)no\n",
      "\n",
      "    Order Statistics:\n",
      "    Total Products Ordered: 3\n",
      "    Percentage of Products Ordered: 9.375%\n",
      "    \n",
      "t-shirt: 7\n",
      "mug: 6\n",
      "hat: 6\n",
      "book: 6\n",
      "keychain: 7\n"
     ]
    }
   ],
   "source": [
    "#Solution_7\n",
    "\n",
    "inventory = initialize_inventory(all_products)\n",
    "\n",
    "customer_orders = get_customer_orders()\n",
    "\n",
    "inventory = update_inventory(customer_orders, inventory)\n",
    "\n",
    "order_statistics = calculate_order_statistics(customer_orders, inventory)\n",
    "\n",
    "print_order_statistics(order_statistics)\n",
    "\n",
    "print_updated_inventory(inventory)"
   ]
  },
  {
   "cell_type": "code",
   "execution_count": null,
   "id": "5587c27a",
   "metadata": {},
   "outputs": [],
   "source": []
  }
 ],
 "metadata": {
  "kernelspec": {
   "display_name": "Python 3 (ipykernel)",
   "language": "python",
   "name": "python3"
  },
  "language_info": {
   "codemirror_mode": {
    "name": "ipython",
    "version": 3
   },
   "file_extension": ".py",
   "mimetype": "text/x-python",
   "name": "python",
   "nbconvert_exporter": "python",
   "pygments_lexer": "ipython3",
   "version": "3.11.7"
  }
 },
 "nbformat": 4,
 "nbformat_minor": 5
}
